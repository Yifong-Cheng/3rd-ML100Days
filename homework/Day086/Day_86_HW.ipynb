{
 "cells": [
  {
   "cell_type": "markdown",
   "metadata": {},
   "source": [
    "## Work\n",
    "1. 試比較 save_best_only 與否的差異\n",
    "2. 請僅存入將 save_weights_only 設定為 True, 並嘗試 reset ipynb 並將模型與權重重新建回並預測 x_test"
   ]
  },
  {
   "cell_type": "code",
   "execution_count": 1,
   "metadata": {},
   "outputs": [
    {
     "name": "stderr",
     "output_type": "stream",
     "text": [
      "Using TensorFlow backend.\n"
     ]
    }
   ],
   "source": [
    "import os\n",
    "import keras\n",
    "\n",
    "# Disable GPU\n",
    "os.environ[\"CUDA_VISIBLE_DEVICES\"] = \"\""
   ]
  },
  {
   "cell_type": "code",
   "execution_count": 2,
   "metadata": {},
   "outputs": [],
   "source": [
    "train, test = keras.datasets.cifar10.load_data()"
   ]
  },
  {
   "cell_type": "code",
   "execution_count": 3,
   "metadata": {},
   "outputs": [],
   "source": [
    "## 資料前處理\n",
    "def preproc_x(x, flatten=True):\n",
    "    x = x / 255.\n",
    "    if flatten:\n",
    "        x = x.reshape((len(x), -1))\n",
    "    return x\n",
    "\n",
    "def preproc_y(y, num_classes=10):\n",
    "    if y.shape[-1] == 1:\n",
    "        y = keras.utils.to_categorical(y, num_classes)\n",
    "    return y    "
   ]
  },
  {
   "cell_type": "code",
   "execution_count": 4,
   "metadata": {},
   "outputs": [],
   "source": [
    "x_train, y_train = train\n",
    "x_test, y_test = test\n",
    "\n",
    "# Preproc the inputs\n",
    "x_train = preproc_x(x_train)\n",
    "x_test = preproc_x(x_test)\n",
    "\n",
    "# Preprc the outputs\n",
    "y_train = preproc_y(y_train)\n",
    "y_test = preproc_y(y_test)"
   ]
  },
  {
   "cell_type": "code",
   "execution_count": 9,
   "metadata": {},
   "outputs": [],
   "source": [
    "from keras.layers import BatchNormalization\n",
    "\n",
    "def build_mlp(input_shape, output_units=10, num_neurons=[512, 256, 128]):\n",
    "    \"\"\"Code Here\n",
    "    建立你的神經網路\n",
    "    \"\"\"\n",
    "    input_layer = keras.layers.Input(input_shape)\n",
    "    \n",
    "    for i, n_units in enumerate(num_neurons):\n",
    "        if i == 0:\n",
    "            x = keras.layers.Dense(units=n_units, \n",
    "                                   activation=\"relu\", \n",
    "                                   name=\"hidden_layer\"+str(i+1))(input_layer)\n",
    "            x = BatchNormalization()(x)\n",
    "        else:\n",
    "            x = keras.layers.Dense(units=n_units, \n",
    "                                   activation=\"relu\", \n",
    "                                   name=\"hidden_layer\"+str(i+1))(x)\n",
    "            x = BatchNormalization()(x)\n",
    "    \n",
    "    out = keras.layers.Dense(units=output_units, activation=\"softmax\", name=\"output\")(x)\n",
    "    \n",
    "    model = keras.models.Model(inputs=[input_layer], outputs=[out])\n",
    "    return model"
   ]
  },
  {
   "cell_type": "code",
   "execution_count": 10,
   "metadata": {},
   "outputs": [],
   "source": [
    "\"\"\"Code Here\n",
    "設定超參數\n",
    "\"\"\"\n",
    "LEARNING_RATE = 1e-3\n",
    "EPOCHS = 50\n",
    "BATCH_SIZE = 1024\n",
    "MOMENTUM = 0.95"
   ]
  },
  {
   "cell_type": "code",
   "execution_count": 11,
   "metadata": {},
   "outputs": [],
   "source": [
    "# 載入 Callbacks\n",
    "\"\"\"Code Here\n",
    "設定 callbacks: model checkpoint\n",
    "\"\"\"\n",
    "from keras.callbacks import ModelCheckpoint\n",
    "\n",
    "model_ckpt = ModelCheckpoint(filepath=\"./tmp.h5\", \n",
    "                             monitor=\"val_loss\", \n",
    "                             save_best_only=False,\n",
    "                             save_weights_only=True)\n"
   ]
  },
  {
   "cell_type": "code",
   "execution_count": 12,
   "metadata": {
    "scrolled": true
   },
   "outputs": [
    {
     "name": "stdout",
     "output_type": "stream",
     "text": [
      "Model: \"model_1\"\n",
      "_________________________________________________________________\n",
      "Layer (type)                 Output Shape              Param #   \n",
      "=================================================================\n",
      "input_2 (InputLayer)         (None, 3072)              0         \n",
      "_________________________________________________________________\n",
      "hidden_layer1 (Dense)        (None, 512)               1573376   \n",
      "_________________________________________________________________\n",
      "batch_normalization_1 (Batch (None, 512)               2048      \n",
      "_________________________________________________________________\n",
      "hidden_layer2 (Dense)        (None, 256)               131328    \n",
      "_________________________________________________________________\n",
      "batch_normalization_2 (Batch (None, 256)               1024      \n",
      "_________________________________________________________________\n",
      "hidden_layer3 (Dense)        (None, 128)               32896     \n",
      "_________________________________________________________________\n",
      "batch_normalization_3 (Batch (None, 128)               512       \n",
      "_________________________________________________________________\n",
      "output (Dense)               (None, 10)                1290      \n",
      "=================================================================\n",
      "Total params: 1,742,474\n",
      "Trainable params: 1,740,682\n",
      "Non-trainable params: 1,792\n",
      "_________________________________________________________________\n",
      "Train on 50000 samples, validate on 10000 samples\n",
      "Epoch 1/50\n",
      "50000/50000 [==============================] - 21s 411us/step - loss: 2.2197 - accuracy: 0.2696 - val_loss: 2.1343 - val_accuracy: 0.2257\n",
      "Epoch 2/50\n",
      "50000/50000 [==============================] - 11s 218us/step - loss: 1.7503 - accuracy: 0.3895 - val_loss: 1.9815 - val_accuracy: 0.3102\n",
      "Epoch 3/50\n",
      "50000/50000 [==============================] - 11s 219us/step - loss: 1.6253 - accuracy: 0.4321 - val_loss: 1.8261 - val_accuracy: 0.3644\n",
      "Epoch 4/50\n",
      "50000/50000 [==============================] - 11s 218us/step - loss: 1.5520 - accuracy: 0.4581 - val_loss: 1.7072 - val_accuracy: 0.4144\n",
      "Epoch 5/50\n",
      "50000/50000 [==============================] - 11s 215us/step - loss: 1.4973 - accuracy: 0.4776 - val_loss: 1.6307 - val_accuracy: 0.4356\n",
      "Epoch 6/50\n",
      "50000/50000 [==============================] - 10s 207us/step - loss: 1.4530 - accuracy: 0.4944 - val_loss: 1.5868 - val_accuracy: 0.4464\n",
      "Epoch 7/50\n",
      "50000/50000 [==============================] - 10s 206us/step - loss: 1.4141 - accuracy: 0.5084 - val_loss: 1.5499 - val_accuracy: 0.4585\n",
      "Epoch 8/50\n",
      "50000/50000 [==============================] - 10s 208us/step - loss: 1.3802 - accuracy: 0.5203 - val_loss: 1.5229 - val_accuracy: 0.4624\n",
      "Epoch 9/50\n",
      "50000/50000 [==============================] - 10s 210us/step - loss: 1.3480 - accuracy: 0.5315 - val_loss: 1.5064 - val_accuracy: 0.4713\n",
      "Epoch 10/50\n",
      "50000/50000 [==============================] - 11s 213us/step - loss: 1.3166 - accuracy: 0.5438 - val_loss: 1.5003 - val_accuracy: 0.4694\n",
      "Epoch 11/50\n",
      "50000/50000 [==============================] - 12s 233us/step - loss: 1.2896 - accuracy: 0.5555 - val_loss: 1.4828 - val_accuracy: 0.4808\n",
      "Epoch 12/50\n",
      "50000/50000 [==============================] - 11s 220us/step - loss: 1.2612 - accuracy: 0.5643 - val_loss: 1.4787 - val_accuracy: 0.4811\n",
      "Epoch 13/50\n",
      "50000/50000 [==============================] - 11s 213us/step - loss: 1.2372 - accuracy: 0.5727 - val_loss: 1.4729 - val_accuracy: 0.4866\n",
      "Epoch 14/50\n",
      "50000/50000 [==============================] - 10s 205us/step - loss: 1.2110 - accuracy: 0.5839 - val_loss: 1.4641 - val_accuracy: 0.4872\n",
      "Epoch 15/50\n",
      "50000/50000 [==============================] - 10s 206us/step - loss: 1.1858 - accuracy: 0.5923 - val_loss: 1.4575 - val_accuracy: 0.4883\n",
      "Epoch 16/50\n",
      "50000/50000 [==============================] - 10s 202us/step - loss: 1.1629 - accuracy: 0.6013 - val_loss: 1.4548 - val_accuracy: 0.4929\n",
      "Epoch 17/50\n",
      "50000/50000 [==============================] - 10s 205us/step - loss: 1.1396 - accuracy: 0.6116 - val_loss: 1.4549 - val_accuracy: 0.4872\n",
      "Epoch 18/50\n",
      "50000/50000 [==============================] - 10s 206us/step - loss: 1.1177 - accuracy: 0.6187 - val_loss: 1.4600 - val_accuracy: 0.4876\n",
      "Epoch 19/50\n",
      "50000/50000 [==============================] - 10s 209us/step - loss: 1.0948 - accuracy: 0.6257 - val_loss: 1.4578 - val_accuracy: 0.4925\n",
      "Epoch 20/50\n",
      "50000/50000 [==============================] - 10s 208us/step - loss: 1.0737 - accuracy: 0.6346 - val_loss: 1.4647 - val_accuracy: 0.4919\n",
      "Epoch 21/50\n",
      "50000/50000 [==============================] - 11s 215us/step - loss: 1.0529 - accuracy: 0.6425 - val_loss: 1.4697 - val_accuracy: 0.4931\n",
      "Epoch 22/50\n",
      "50000/50000 [==============================] - 10s 207us/step - loss: 1.0306 - accuracy: 0.6520 - val_loss: 1.4556 - val_accuracy: 0.5002\n",
      "Epoch 23/50\n",
      "50000/50000 [==============================] - 10s 201us/step - loss: 1.0100 - accuracy: 0.6578 - val_loss: 1.4640 - val_accuracy: 0.4941\n",
      "Epoch 24/50\n",
      "50000/50000 [==============================] - 10s 202us/step - loss: 0.9880 - accuracy: 0.6679 - val_loss: 1.4584 - val_accuracy: 0.4957\n",
      "Epoch 25/50\n",
      "50000/50000 [==============================] - 10s 207us/step - loss: 0.9693 - accuracy: 0.6747 - val_loss: 1.4538 - val_accuracy: 0.5018\n",
      "Epoch 26/50\n",
      "50000/50000 [==============================] - 11s 212us/step - loss: 0.9498 - accuracy: 0.6824 - val_loss: 1.4608 - val_accuracy: 0.5005\n",
      "Epoch 27/50\n",
      "50000/50000 [==============================] - 11s 212us/step - loss: 0.9295 - accuracy: 0.6907 - val_loss: 1.4713 - val_accuracy: 0.4943\n",
      "Epoch 28/50\n",
      "50000/50000 [==============================] - 11s 221us/step - loss: 0.9075 - accuracy: 0.6996 - val_loss: 1.4717 - val_accuracy: 0.4978\n",
      "Epoch 29/50\n",
      "50000/50000 [==============================] - 10s 209us/step - loss: 0.8910 - accuracy: 0.7051 - val_loss: 1.4872 - val_accuracy: 0.4918\n",
      "Epoch 30/50\n",
      "50000/50000 [==============================] - 10s 209us/step - loss: 0.8707 - accuracy: 0.7122 - val_loss: 1.4829 - val_accuracy: 0.4988\n",
      "Epoch 31/50\n",
      "50000/50000 [==============================] - 10s 208us/step - loss: 0.8495 - accuracy: 0.7219 - val_loss: 1.4924 - val_accuracy: 0.4992\n",
      "Epoch 32/50\n",
      "50000/50000 [==============================] - 10s 205us/step - loss: 0.8289 - accuracy: 0.7299 - val_loss: 1.4898 - val_accuracy: 0.4960\n",
      "Epoch 33/50\n",
      "50000/50000 [==============================] - 11s 211us/step - loss: 0.8097 - accuracy: 0.7377 - val_loss: 1.5232 - val_accuracy: 0.4879\n",
      "Epoch 34/50\n",
      "50000/50000 [==============================] - 10s 204us/step - loss: 0.7916 - accuracy: 0.7457 - val_loss: 1.5029 - val_accuracy: 0.5007\n",
      "Epoch 35/50\n",
      "50000/50000 [==============================] - 10s 205us/step - loss: 0.7713 - accuracy: 0.7526 - val_loss: 1.5163 - val_accuracy: 0.5019\n",
      "Epoch 36/50\n",
      "50000/50000 [==============================] - 10s 206us/step - loss: 0.7532 - accuracy: 0.7600 - val_loss: 1.5351 - val_accuracy: 0.4940\n",
      "Epoch 37/50\n",
      "50000/50000 [==============================] - 10s 207us/step - loss: 0.7364 - accuracy: 0.7658 - val_loss: 1.5203 - val_accuracy: 0.5024\n",
      "Epoch 38/50\n",
      "50000/50000 [==============================] - 10s 205us/step - loss: 0.7180 - accuracy: 0.7748 - val_loss: 1.5432 - val_accuracy: 0.4981\n",
      "Epoch 39/50\n",
      "50000/50000 [==============================] - 10s 203us/step - loss: 0.6964 - accuracy: 0.7825 - val_loss: 1.5442 - val_accuracy: 0.4941\n",
      "Epoch 40/50\n",
      "50000/50000 [==============================] - 10s 208us/step - loss: 0.6789 - accuracy: 0.7880 - val_loss: 1.5656 - val_accuracy: 0.4975\n",
      "Epoch 41/50\n",
      "50000/50000 [==============================] - 10s 202us/step - loss: 0.6624 - accuracy: 0.7954 - val_loss: 1.5785 - val_accuracy: 0.4944\n",
      "Epoch 42/50\n",
      "50000/50000 [==============================] - 10s 207us/step - loss: 0.6431 - accuracy: 0.8032 - val_loss: 1.5890 - val_accuracy: 0.4905\n",
      "Epoch 43/50\n",
      "50000/50000 [==============================] - 10s 205us/step - loss: 0.6269 - accuracy: 0.8091 - val_loss: 1.6012 - val_accuracy: 0.4858\n",
      "Epoch 44/50\n",
      "50000/50000 [==============================] - 10s 205us/step - loss: 0.6096 - accuracy: 0.8176 - val_loss: 1.5946 - val_accuracy: 0.4961\n",
      "Epoch 45/50\n",
      "50000/50000 [==============================] - 11s 210us/step - loss: 0.5917 - accuracy: 0.8232 - val_loss: 1.6144 - val_accuracy: 0.4909\n"
     ]
    },
    {
     "name": "stdout",
     "output_type": "stream",
     "text": [
      "Epoch 46/50\n",
      "50000/50000 [==============================] - 10s 200us/step - loss: 0.5750 - accuracy: 0.8286 - val_loss: 1.6240 - val_accuracy: 0.4911\n",
      "Epoch 47/50\n",
      "50000/50000 [==============================] - 10s 197us/step - loss: 0.5585 - accuracy: 0.8356 - val_loss: 1.6615 - val_accuracy: 0.4891\n",
      "Epoch 48/50\n",
      "50000/50000 [==============================] - 10s 197us/step - loss: 0.5424 - accuracy: 0.8426 - val_loss: 1.6553 - val_accuracy: 0.4905\n",
      "Epoch 49/50\n",
      "50000/50000 [==============================] - 10s 199us/step - loss: 0.5254 - accuracy: 0.8500 - val_loss: 1.6666 - val_accuracy: 0.4922\n",
      "Epoch 50/50\n",
      "50000/50000 [==============================] - 10s 207us/step - loss: 0.5092 - accuracy: 0.8563 - val_loss: 1.6870 - val_accuracy: 0.4889\n"
     ]
    },
    {
     "ename": "ValueError",
     "evalue": "Cannot create group in read-only mode.",
     "output_type": "error",
     "traceback": [
      "\u001b[1;31m---------------------------------------------------------------------------\u001b[0m",
      "\u001b[1;31mValueError\u001b[0m                                Traceback (most recent call last)",
      "\u001b[1;32m<ipython-input-12-0f0584ef423b>\u001b[0m in \u001b[0;36m<module>\u001b[1;34m\u001b[0m\n\u001b[0;32m     23\u001b[0m \u001b[1;33m\u001b[0m\u001b[0m\n\u001b[0;32m     24\u001b[0m \u001b[1;31m# Load back\u001b[0m\u001b[1;33m\u001b[0m\u001b[1;33m\u001b[0m\u001b[1;33m\u001b[0m\u001b[0m\n\u001b[1;32m---> 25\u001b[1;33m \u001b[0mmodel\u001b[0m \u001b[1;33m=\u001b[0m \u001b[0mkeras\u001b[0m\u001b[1;33m.\u001b[0m\u001b[0mmodels\u001b[0m\u001b[1;33m.\u001b[0m\u001b[0mload_model\u001b[0m\u001b[1;33m(\u001b[0m\u001b[1;34m\"./tmp.h5\"\u001b[0m\u001b[1;33m)\u001b[0m\u001b[1;33m\u001b[0m\u001b[1;33m\u001b[0m\u001b[0m\n\u001b[0m\u001b[0;32m     26\u001b[0m \u001b[0mloss_loadback\u001b[0m\u001b[1;33m,\u001b[0m \u001b[0macc_loadback\u001b[0m \u001b[1;33m=\u001b[0m \u001b[0mmodel\u001b[0m\u001b[1;33m.\u001b[0m\u001b[0mevaluate\u001b[0m\u001b[1;33m(\u001b[0m\u001b[0mx_test\u001b[0m\u001b[1;33m,\u001b[0m \u001b[0my_test\u001b[0m\u001b[1;33m)\u001b[0m\u001b[1;33m\u001b[0m\u001b[1;33m\u001b[0m\u001b[0m\n",
      "\u001b[1;32m~\\Anaconda3\\lib\\site-packages\\keras\\engine\\saving.py\u001b[0m in \u001b[0;36mload_wrapper\u001b[1;34m(*args, **kwargs)\u001b[0m\n\u001b[0;32m    490\u001b[0m                 \u001b[0mos\u001b[0m\u001b[1;33m.\u001b[0m\u001b[0mremove\u001b[0m\u001b[1;33m(\u001b[0m\u001b[0mtmp_filepath\u001b[0m\u001b[1;33m)\u001b[0m\u001b[1;33m\u001b[0m\u001b[1;33m\u001b[0m\u001b[0m\n\u001b[0;32m    491\u001b[0m             \u001b[1;32mreturn\u001b[0m \u001b[0mres\u001b[0m\u001b[1;33m\u001b[0m\u001b[1;33m\u001b[0m\u001b[0m\n\u001b[1;32m--> 492\u001b[1;33m         \u001b[1;32mreturn\u001b[0m \u001b[0mload_function\u001b[0m\u001b[1;33m(\u001b[0m\u001b[1;33m*\u001b[0m\u001b[0margs\u001b[0m\u001b[1;33m,\u001b[0m \u001b[1;33m**\u001b[0m\u001b[0mkwargs\u001b[0m\u001b[1;33m)\u001b[0m\u001b[1;33m\u001b[0m\u001b[1;33m\u001b[0m\u001b[0m\n\u001b[0m\u001b[0;32m    493\u001b[0m \u001b[1;33m\u001b[0m\u001b[0m\n\u001b[0;32m    494\u001b[0m     \u001b[1;32mreturn\u001b[0m \u001b[0mload_wrapper\u001b[0m\u001b[1;33m\u001b[0m\u001b[1;33m\u001b[0m\u001b[0m\n",
      "\u001b[1;32m~\\Anaconda3\\lib\\site-packages\\keras\\engine\\saving.py\u001b[0m in \u001b[0;36mload_model\u001b[1;34m(filepath, custom_objects, compile)\u001b[0m\n\u001b[0;32m    582\u001b[0m     \u001b[1;32mif\u001b[0m \u001b[0mH5Dict\u001b[0m\u001b[1;33m.\u001b[0m\u001b[0mis_supported_type\u001b[0m\u001b[1;33m(\u001b[0m\u001b[0mfilepath\u001b[0m\u001b[1;33m)\u001b[0m\u001b[1;33m:\u001b[0m\u001b[1;33m\u001b[0m\u001b[1;33m\u001b[0m\u001b[0m\n\u001b[0;32m    583\u001b[0m         \u001b[1;32mwith\u001b[0m \u001b[0mH5Dict\u001b[0m\u001b[1;33m(\u001b[0m\u001b[0mfilepath\u001b[0m\u001b[1;33m,\u001b[0m \u001b[0mmode\u001b[0m\u001b[1;33m=\u001b[0m\u001b[1;34m'r'\u001b[0m\u001b[1;33m)\u001b[0m \u001b[1;32mas\u001b[0m \u001b[0mh5dict\u001b[0m\u001b[1;33m:\u001b[0m\u001b[1;33m\u001b[0m\u001b[1;33m\u001b[0m\u001b[0m\n\u001b[1;32m--> 584\u001b[1;33m             \u001b[0mmodel\u001b[0m \u001b[1;33m=\u001b[0m \u001b[0m_deserialize_model\u001b[0m\u001b[1;33m(\u001b[0m\u001b[0mh5dict\u001b[0m\u001b[1;33m,\u001b[0m \u001b[0mcustom_objects\u001b[0m\u001b[1;33m,\u001b[0m \u001b[0mcompile\u001b[0m\u001b[1;33m)\u001b[0m\u001b[1;33m\u001b[0m\u001b[1;33m\u001b[0m\u001b[0m\n\u001b[0m\u001b[0;32m    585\u001b[0m     \u001b[1;32melif\u001b[0m \u001b[0mhasattr\u001b[0m\u001b[1;33m(\u001b[0m\u001b[0mfilepath\u001b[0m\u001b[1;33m,\u001b[0m \u001b[1;34m'write'\u001b[0m\u001b[1;33m)\u001b[0m \u001b[1;32mand\u001b[0m \u001b[0mcallable\u001b[0m\u001b[1;33m(\u001b[0m\u001b[0mfilepath\u001b[0m\u001b[1;33m.\u001b[0m\u001b[0mwrite\u001b[0m\u001b[1;33m)\u001b[0m\u001b[1;33m:\u001b[0m\u001b[1;33m\u001b[0m\u001b[1;33m\u001b[0m\u001b[0m\n\u001b[0;32m    586\u001b[0m         \u001b[1;32mdef\u001b[0m \u001b[0mload_function\u001b[0m\u001b[1;33m(\u001b[0m\u001b[0mh5file\u001b[0m\u001b[1;33m)\u001b[0m\u001b[1;33m:\u001b[0m\u001b[1;33m\u001b[0m\u001b[1;33m\u001b[0m\u001b[0m\n",
      "\u001b[1;32m~\\Anaconda3\\lib\\site-packages\\keras\\engine\\saving.py\u001b[0m in \u001b[0;36m_deserialize_model\u001b[1;34m(h5dict, custom_objects, compile)\u001b[0m\n\u001b[0;32m    268\u001b[0m         \u001b[1;32mreturn\u001b[0m \u001b[0mobj\u001b[0m\u001b[1;33m\u001b[0m\u001b[1;33m\u001b[0m\u001b[0m\n\u001b[0;32m    269\u001b[0m \u001b[1;33m\u001b[0m\u001b[0m\n\u001b[1;32m--> 270\u001b[1;33m     \u001b[0mmodel_config\u001b[0m \u001b[1;33m=\u001b[0m \u001b[0mh5dict\u001b[0m\u001b[1;33m[\u001b[0m\u001b[1;34m'model_config'\u001b[0m\u001b[1;33m]\u001b[0m\u001b[1;33m\u001b[0m\u001b[1;33m\u001b[0m\u001b[0m\n\u001b[0m\u001b[0;32m    271\u001b[0m     \u001b[1;32mif\u001b[0m \u001b[0mmodel_config\u001b[0m \u001b[1;32mis\u001b[0m \u001b[1;32mNone\u001b[0m\u001b[1;33m:\u001b[0m\u001b[1;33m\u001b[0m\u001b[1;33m\u001b[0m\u001b[0m\n\u001b[0;32m    272\u001b[0m         \u001b[1;32mraise\u001b[0m \u001b[0mValueError\u001b[0m\u001b[1;33m(\u001b[0m\u001b[1;34m'No model found in config.'\u001b[0m\u001b[1;33m)\u001b[0m\u001b[1;33m\u001b[0m\u001b[1;33m\u001b[0m\u001b[0m\n",
      "\u001b[1;32m~\\Anaconda3\\lib\\site-packages\\keras\\utils\\io_utils.py\u001b[0m in \u001b[0;36m__getitem__\u001b[1;34m(self, attr)\u001b[0m\n\u001b[0;32m    316\u001b[0m             \u001b[1;32melse\u001b[0m\u001b[1;33m:\u001b[0m\u001b[1;33m\u001b[0m\u001b[1;33m\u001b[0m\u001b[0m\n\u001b[0;32m    317\u001b[0m                 \u001b[1;32mif\u001b[0m \u001b[0mself\u001b[0m\u001b[1;33m.\u001b[0m\u001b[0mread_only\u001b[0m\u001b[1;33m:\u001b[0m\u001b[1;33m\u001b[0m\u001b[1;33m\u001b[0m\u001b[0m\n\u001b[1;32m--> 318\u001b[1;33m                     \u001b[1;32mraise\u001b[0m \u001b[0mValueError\u001b[0m\u001b[1;33m(\u001b[0m\u001b[1;34m'Cannot create group in read-only mode.'\u001b[0m\u001b[1;33m)\u001b[0m\u001b[1;33m\u001b[0m\u001b[1;33m\u001b[0m\u001b[0m\n\u001b[0m\u001b[0;32m    319\u001b[0m                 \u001b[0mval\u001b[0m \u001b[1;33m=\u001b[0m \u001b[0mH5Dict\u001b[0m\u001b[1;33m(\u001b[0m\u001b[0mself\u001b[0m\u001b[1;33m.\u001b[0m\u001b[0mdata\u001b[0m\u001b[1;33m.\u001b[0m\u001b[0mcreate_group\u001b[0m\u001b[1;33m(\u001b[0m\u001b[0mattr\u001b[0m\u001b[1;33m)\u001b[0m\u001b[1;33m)\u001b[0m\u001b[1;33m\u001b[0m\u001b[1;33m\u001b[0m\u001b[0m\n\u001b[0;32m    320\u001b[0m         \u001b[1;32mreturn\u001b[0m \u001b[0mval\u001b[0m\u001b[1;33m\u001b[0m\u001b[1;33m\u001b[0m\u001b[0m\n",
      "\u001b[1;31mValueError\u001b[0m: Cannot create group in read-only mode."
     ]
    }
   ],
   "source": [
    "results = {}\n",
    "\"\"\"Code Here\n",
    "撰寫你的訓練流程並將結果用 dictionary 紀錄\n",
    "\"\"\"\n",
    "model = build_mlp(input_shape=x_train.shape[1:])\n",
    "model.summary()\n",
    "optimizer = keras.optimizers.SGD(lr=LEARNING_RATE, nesterov=True, momentum=MOMENTUM)\n",
    "model.compile(loss=\"categorical_crossentropy\", metrics=[\"accuracy\"], optimizer=optimizer)\n",
    "\n",
    "model.fit(x_train, y_train, \n",
    "          epochs=EPOCHS, \n",
    "          batch_size=BATCH_SIZE, \n",
    "          validation_data=(x_test, y_test), \n",
    "          shuffle=True,\n",
    "          callbacks=[model_ckpt]\n",
    "         )\n",
    "\n",
    "# Collect results\n",
    "train_loss = model.history.history[\"loss\"]\n",
    "valid_loss = model.history.history[\"val_loss\"]\n",
    "train_acc = model.history.history[\"accuracy\"]\n",
    "valid_acc = model.history.history[\"val_accuracy\"]\n",
    "\n",
    "\n"
   ]
  },
  {
   "cell_type": "code",
   "execution_count": 17,
   "metadata": {},
   "outputs": [],
   "source": [
    "# Load back\n",
    "#model = keras.models.load_model(\"./tmp.h5\")\n",
    "model=build_mlp(input_shape=x_train.shape[1:])\n",
    "model.load_weights(\"./tmp.h5\")\n",
    "\n",
    "#loss_loadback, acc_loadback = model.evaluate(x_test, y_test)\n"
   ]
  },
  {
   "cell_type": "code",
   "execution_count": 25,
   "metadata": {
    "scrolled": true
   },
   "outputs": [],
   "source": [
    "#loss_loadback, acc_loadback = model.evaluate(x_test, y_test)\n",
    "#print(model.predict(x_test[0:5]))\n",
    "loss_loadback = model.predict(x_test[0:])\n",
    "#acc_loadback = model.predict(y_test[0:])"
   ]
  },
  {
   "cell_type": "code",
   "execution_count": 29,
   "metadata": {
    "scrolled": true
   },
   "outputs": [],
   "source": [
    "#acc_loadback = model.predict(y_test)"
   ]
  },
  {
   "cell_type": "code",
   "execution_count": 30,
   "metadata": {
    "scrolled": true
   },
   "outputs": [
    {
     "data": {
      "image/png": "[encoded data removed]",
      "text/plain": [
       "<Figure size 432x288 with 1 Axes>"
      ]
     },
     "metadata": {
      "needs_background": "light"
     },
     "output_type": "display_data"
    },
    {
     "data": {
      "text/plain": [
       "'\\nplt.plot(range(len(train_acc)), train_acc, label=\"train accuracy\")\\nplt.plot(range(len(valid_acc)), valid_acc, label=\"valid accuracy\")\\nplt.hlines(y=acc_loadback, xmin=0, xmax=len(train_loss), colors=\\'r\\', linestyles=\\'--\\')\\nplt.legend()\\nplt.title(\"Accuracy\")\\nplt.show()\\n'"
      ]
     },
     "execution_count": 30,
     "metadata": {},
     "output_type": "execute_result"
    }
   ],
   "source": [
    "import matplotlib.pyplot as plt\n",
    "%matplotlib inline\n",
    "\"\"\"Code Here\n",
    "將結果繪出\n",
    "\"\"\"\n",
    "plt.plot(range(len(train_loss)), train_loss, label=\"train loss\")\n",
    "plt.plot(range(len(valid_loss)), valid_loss, label=\"valid loss\")\n",
    "plt.hlines(y=loss_loadback, xmin=0, xmax=len(train_loss), colors='r', linestyles='--')\n",
    "plt.legend()\n",
    "plt.title(\"Loss\")\n",
    "plt.show()\n",
    "\"\"\"\n",
    "plt.plot(range(len(train_acc)), train_acc, label=\"train accuracy\")\n",
    "plt.plot(range(len(valid_acc)), valid_acc, label=\"valid accuracy\")\n",
    "plt.hlines(y=acc_loadback, xmin=0, xmax=len(train_loss), colors='r', linestyles='--')\n",
    "plt.legend()\n",
    "plt.title(\"Accuracy\")\n",
    "plt.show()\n",
    "\"\"\""
   ]
  },
  {
   "cell_type": "code",
   "execution_count": null,
   "metadata": {},
   "outputs": [],
   "source": []
  }
 ],
 "metadata": {
  "kernelspec": {
   "display_name": "Python 3",
   "language": "python",
   "name": "python3"
  },
  "language_info": {
   "codemirror_mode": {
    "name": "ipython",
    "version": 3
   },
   "file_extension": ".py",
   "mimetype": "text/x-python",
   "name": "python",
   "nbconvert_exporter": "python",
   "pygments_lexer": "ipython3",
   "version": "3.7.3"
  }
 },
 "nbformat": 4,
 "nbformat_minor": 2
}

{
 "cells": [
  {
   "cell_type": "markdown",
   "metadata": {},
   "source": [
    "### 作業\n",
    "目前已經學過許多的模型，相信大家對整體流程應該比較掌握了，這次作業請改用**手寫辨識資料集**，步驟流程都是一樣的，請試著自己撰寫程式碼來完成所有步驟"
   ]
  },
  {
   "cell_type": "code",
   "execution_count": 3,
   "metadata": {},
   "outputs": [],
   "source": [
    "from sklearn import datasets, metrics\n",
    "from sklearn.ensemble import GradientBoostingClassifier\n",
    "from sklearn.model_selection import train_test_split\n",
    "digits = datasets.load_digits()"
   ]
  },
  {
   "cell_type": "code",
   "execution_count": 6,
   "metadata": {},
   "outputs": [],
   "source": [
    "x_train,x_test,y_train,y_test = train_test_split(digits.data,digits.target,test_size=0.25,random_state=4)\n",
    "\n",
    "clf = GradientBoostingClassifier(loss='deviance',learning_rate=0.1,n_estimators=100)\n",
    "clf.fit(x_train,y_train)\n",
    "\n",
    "y_pred=clf.predict(x_test)"
   ]
  },
  {
   "cell_type": "code",
   "execution_count": 8,
   "metadata": {},
   "outputs": [
    {
     "name": "stdout",
     "output_type": "stream",
     "text": [
      "Accuracy =  0.9666666666666667\n"
     ]
    }
   ],
   "source": [
    "acc= metrics.accuracy_score(y_test,y_pred)\n",
    "\n",
    "print(\"Accuracy = \",acc)"
   ]
  },
  {
   "cell_type": "code",
   "execution_count": 11,
   "metadata": {},
   "outputs": [
    {
     "name": "stdout",
     "output_type": "stream",
     "text": [
      "Feature importance =  [0.00000000e+00 1.50630755e-03 7.75021067e-03 6.76494275e-03\n",
      " 2.40876021e-03 5.28925081e-02 1.01252503e-02 4.02336518e-05\n",
      " 0.00000000e+00 1.69322472e-03 1.10748073e-02 6.29691426e-04\n",
      " 5.83768773e-03 1.38232350e-02 2.18557885e-03 5.99347527e-04\n",
      " 1.47806809e-04 2.96174420e-03 1.11569048e-02 3.38371413e-02\n",
      " 2.48953045e-02 9.02261585e-02 6.38796570e-03 3.16766872e-08\n",
      " 4.36990931e-04 2.02895903e-03 4.79645021e-02 1.96551319e-02\n",
      " 3.63111706e-02 2.32321525e-02 9.14546452e-03 4.89021453e-04\n",
      " 0.00000000e+00 6.13165069e-02 4.17009727e-03 9.82154900e-04\n",
      " 7.04586360e-02 1.25561856e-02 1.97295575e-02 0.00000000e+00\n",
      " 0.00000000e+00 9.38388112e-03 8.79982672e-02 6.38868445e-02\n",
      " 1.21944105e-02 1.79151076e-02 1.68802491e-02 6.69463019e-04\n",
      " 0.00000000e+00 1.02122648e-03 7.47226614e-03 2.11892194e-02\n",
      " 1.07745689e-02 1.50530507e-02 2.21298859e-02 1.32765359e-04\n",
      " 0.00000000e+00 3.74872620e-04 2.98576837e-02 2.17702372e-03\n",
      " 5.00364262e-02 7.57870672e-03 1.88049973e-02 9.04770927e-03]\n"
     ]
    }
   ],
   "source": [
    "print(\"Feature importance = \",clf.feature_importances_)"
   ]
  },
  {
   "cell_type": "code",
   "execution_count": 25,
   "metadata": {},
   "outputs": [
    {
     "name": "stdout",
     "output_type": "stream",
     "text": [
      "Acc :  0.9711111111111111\n"
     ]
    }
   ],
   "source": [
    "#clf1 = GradientBoostingClassifier(loss='exponential',learning_rate=0.1,n_estimators=100)\n",
    "clf1 = GradientBoostingClassifier(loss='deviance',learning_rate=0.5,n_estimators=200)\n",
    "clf1.fit(x_train,y_train)\n",
    "\n",
    "y_pred1=clf1.predict(x_test)\n",
    "\n",
    "acc1=metrics.accuracy_score(y_test,y_pred1)\n",
    "print(\"Acc : \",acc1)"
   ]
  },
  {
   "cell_type": "code",
   "execution_count": null,
   "metadata": {},
   "outputs": [],
   "source": []
  }
 ],
 "metadata": {
  "kernelspec": {
   "display_name": "Python 3",
   "language": "python",
   "name": "python3"
  },
  "language_info": {
   "codemirror_mode": {
    "name": "ipython",
    "version": 3
   },
   "file_extension": ".py",
   "mimetype": "text/x-python",
   "name": "python",
   "nbconvert_exporter": "python",
   "pygments_lexer": "ipython3",
   "version": "3.7.3"
  }
 },
 "nbformat": 4,
 "nbformat_minor": 2
}

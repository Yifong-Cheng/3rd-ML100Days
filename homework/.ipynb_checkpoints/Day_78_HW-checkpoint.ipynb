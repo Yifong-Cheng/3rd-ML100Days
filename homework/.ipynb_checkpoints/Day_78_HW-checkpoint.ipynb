{
 "cells": [
  {
   "cell_type": "markdown",
   "metadata": {},
   "source": [
    "## Work\n",
    "1. 請嘗試將 preproc_x 替換成以每筆資料的 min/max 進行標準化至 -1 ~ 1 間，再進行訓練\n",
    "2. 請嘗試將 mlp 疊更深 (e.g 5~10 層)，進行訓練後觀察 learning curve 的走勢\n",
    "3. (optional) 請改用 GPU 進行訓練 (如果你有 GPU 的話)，比較使用 CPU 與 GPU 的訓練速度"
   ]
  },
  {
   "cell_type": "code",
   "execution_count": 4,
   "metadata": {},
   "outputs": [
    {
     "name": "stderr",
     "output_type": "stream",
     "text": [
      "'nvidia-smi.exe' 不是內部或外部命令、可執行的程式或批次檔。\n"
     ]
    }
   ],
   "source": [
    "## \n",
    "\"\"\"\n",
    "Your code here (optional)\n",
    "確認硬體資源\n",
    "\"\"\"\n",
    "#!nvidia-smi.exe\n",
    "!nvidia-smi.exe -h"
   ]
  },
  {
   "cell_type": "code",
   "execution_count": 5,
   "metadata": {},
   "outputs": [
    {
     "name": "stderr",
     "output_type": "stream",
     "text": [
      "Using TensorFlow backend.\n"
     ]
    }
   ],
   "source": [
    "import os\n",
    "import keras\n",
    "\n",
    "# 請嘗試設定 GPU：os.environ\n",
    "os.environ[\"CUDA_VISIBLE_DEVICES\"] = \"\""
   ]
  },
  {
   "cell_type": "code",
   "execution_count": 6,
   "metadata": {},
   "outputs": [],
   "source": [
    "train, test = keras.datasets.cifar10.load_data()"
   ]
  },
  {
   "cell_type": "code",
   "execution_count": 7,
   "metadata": {},
   "outputs": [],
   "source": [
    "## 資料前處理\n",
    "##標準化至 -1 ~ 1 間\n",
    "\"\"\"\n",
    "Your code here\n",
    "\"\"\"\n",
    "def preproc_x(x, flatten=True):\n",
    "    x = (x - x.min()) / (x.max() - x.min()) * 2 - 1\n",
    "    if flatten:\n",
    "        x = x.reshape((len(x), -1))\n",
    "    return x\n",
    "    #pass\n",
    "\n",
    "def preproc_y(y, num_classes=10):\n",
    "    if y.shape[-1] == 1:\n",
    "        y = keras.utils.to_categorical(y, num_classes)\n",
    "    return y    \n",
    "    #pass"
   ]
  },
  {
   "cell_type": "code",
   "execution_count": 8,
   "metadata": {},
   "outputs": [],
   "source": [
    "x_train, y_train = train\n",
    "x_test, y_test = test\n",
    "\n",
    "# Preproc the inputs\n",
    "x_train = preproc_x(x_train)\n",
    "x_test = preproc_x(x_test)\n",
    "\n",
    "# Preprc the outputs\n",
    "y_train = preproc_y(y_train)\n",
    "y_test = preproc_y(y_test)"
   ]
  },
  {
   "cell_type": "code",
   "execution_count": 9,
   "metadata": {},
   "outputs": [
    {
     "name": "stdout",
     "output_type": "stream",
     "text": [
      "Model: \"model_1\"\n",
      "_________________________________________________________________\n",
      "Layer (type)                 Output Shape              Param #   \n",
      "=================================================================\n",
      "input_1 (InputLayer)         (None, 3072)              0         \n",
      "_________________________________________________________________\n",
      "hidden_layer1 (Dense)        (None, 512)               1573376   \n",
      "_________________________________________________________________\n",
      "hidden_layer2 (Dense)        (None, 256)               131328    \n",
      "_________________________________________________________________\n",
      "hidden_layer3 (Dense)        (None, 128)               32896     \n",
      "_________________________________________________________________\n",
      "hidden_layer4 (Dense)        (None, 64)                8256      \n",
      "_________________________________________________________________\n",
      "hidden_layer5 (Dense)        (None, 32)                2080      \n",
      "_________________________________________________________________\n",
      "hidden_layer6 (Dense)        (None, 16)                528       \n",
      "_________________________________________________________________\n",
      "output (Dense)               (None, 10)                170       \n",
      "=================================================================\n",
      "Total params: 1,748,634\n",
      "Trainable params: 1,748,634\n",
      "Non-trainable params: 0\n",
      "_________________________________________________________________\n"
     ]
    }
   ],
   "source": [
    "\"\"\"Code Here\n",
    "建立你的神經網路\n",
    "\"\"\"\n",
    "def build_mlp(input_shape, output_units=10, num_neurons=[512, 256, 128,64,32,16]):\n",
    "    \n",
    "    input_layer = keras.layers.Input(input_shape)\n",
    "    \n",
    "    for i, n_units in enumerate(num_neurons):\n",
    "        if i == 0:\n",
    "            x = keras.layers.Dense(units=n_units, activation=\"relu\", name=\"hidden_layer\"+str(i+1))(input_layer)\n",
    "        else:\n",
    "            x = keras.layers.Dense(units=n_units, activation=\"relu\", name=\"hidden_layer\"+str(i+1))(x)\n",
    "    \n",
    "    out = keras.layers.Dense(units=output_units, activation=\"softmax\", name=\"output\")(x)\n",
    "    \n",
    "    model = keras.models.Model(inputs=[input_layer], outputs=[out])\n",
    "    return model\n",
    "    \n",
    "    #pass\n",
    "model = build_mlp(input_shape=x_train.shape[1:])\n",
    "model.summary()"
   ]
  },
  {
   "cell_type": "code",
   "execution_count": 10,
   "metadata": {},
   "outputs": [],
   "source": [
    "## 超參數設定\n",
    "LEARNING_RATE = 0.001\n",
    "EPOCHS = 100\n",
    "BATCH_SIZE = 256"
   ]
  },
  {
   "cell_type": "code",
   "execution_count": 11,
   "metadata": {},
   "outputs": [],
   "source": [
    "optimizer = keras.optimizers.Adam(lr=LEARNING_RATE)\n",
    "model.compile(loss=\"categorical_crossentropy\", metrics=[\"accuracy\"], optimizer=optimizer)"
   ]
  },
  {
   "cell_type": "code",
   "execution_count": 12,
   "metadata": {},
   "outputs": [
    {
     "name": "stdout",
     "output_type": "stream",
     "text": [
      "Train on 50000 samples, validate on 10000 samples\n",
      "Epoch 1/100\n",
      "50000/50000 [==============================] - 18s 365us/step - loss: 1.8014 - accuracy: 0.3566 - val_loss: 1.6384 - val_accuracy: 0.4260\n",
      "Epoch 2/100\n",
      "50000/50000 [==============================] - 18s 360us/step - loss: 1.5450 - accuracy: 0.4577 - val_loss: 1.5039 - val_accuracy: 0.4677\n",
      "Epoch 3/100\n",
      "50000/50000 [==============================] - 18s 365us/step - loss: 1.4116 - accuracy: 0.5045 - val_loss: 1.4407 - val_accuracy: 0.4949\n",
      "Epoch 4/100\n",
      "50000/50000 [==============================] - 18s 356us/step - loss: 1.3206 - accuracy: 0.5334 - val_loss: 1.3931 - val_accuracy: 0.5083\n",
      "Epoch 5/100\n",
      "50000/50000 [==============================] - 18s 361us/step - loss: 1.2362 - accuracy: 0.5644 - val_loss: 1.3599 - val_accuracy: 0.5259\n",
      "Epoch 6/100\n",
      "50000/50000 [==============================] - 19s 371us/step - loss: 1.1673 - accuracy: 0.5878 - val_loss: 1.3639 - val_accuracy: 0.5217\n",
      "Epoch 7/100\n",
      "50000/50000 [==============================] - 18s 352us/step - loss: 1.0864 - accuracy: 0.6159 - val_loss: 1.3846 - val_accuracy: 0.5270\n",
      "Epoch 8/100\n",
      "50000/50000 [==============================] - 18s 357us/step - loss: 1.0201 - accuracy: 0.6401 - val_loss: 1.3776 - val_accuracy: 0.5400\n",
      "Epoch 9/100\n",
      "50000/50000 [==============================] - 18s 363us/step - loss: 0.9510 - accuracy: 0.6618 - val_loss: 1.3749 - val_accuracy: 0.5390\n",
      "Epoch 10/100\n",
      "50000/50000 [==============================] - 18s 355us/step - loss: 0.8849 - accuracy: 0.6872 - val_loss: 1.4364 - val_accuracy: 0.5326\n",
      "Epoch 11/100\n",
      "50000/50000 [==============================] - 18s 367us/step - loss: 0.8206 - accuracy: 0.7080 - val_loss: 1.4673 - val_accuracy: 0.5424\n",
      "Epoch 12/100\n",
      "50000/50000 [==============================] - 18s 367us/step - loss: 0.7558 - accuracy: 0.7312 - val_loss: 1.4909 - val_accuracy: 0.5359\n",
      "Epoch 13/100\n",
      "50000/50000 [==============================] - 18s 370us/step - loss: 0.7040 - accuracy: 0.7500 - val_loss: 1.6116 - val_accuracy: 0.5273\n",
      "Epoch 14/100\n",
      "50000/50000 [==============================] - 20s 394us/step - loss: 0.6374 - accuracy: 0.7740 - val_loss: 1.6405 - val_accuracy: 0.5375\n",
      "Epoch 15/100\n",
      "50000/50000 [==============================] - 18s 359us/step - loss: 0.5843 - accuracy: 0.7920 - val_loss: 1.7476 - val_accuracy: 0.5246\n",
      "Epoch 16/100\n",
      "50000/50000 [==============================] - 18s 370us/step - loss: 0.5411 - accuracy: 0.8096 - val_loss: 1.7819 - val_accuracy: 0.5246\n",
      "Epoch 17/100\n",
      "50000/50000 [==============================] - 19s 371us/step - loss: 0.4993 - accuracy: 0.8242 - val_loss: 1.9026 - val_accuracy: 0.5348\n",
      "Epoch 18/100\n",
      "50000/50000 [==============================] - 19s 371us/step - loss: 0.4617 - accuracy: 0.8381 - val_loss: 1.8962 - val_accuracy: 0.5293\n",
      "Epoch 19/100\n",
      "50000/50000 [==============================] - 19s 375us/step - loss: 0.4150 - accuracy: 0.8549 - val_loss: 2.0215 - val_accuracy: 0.5333\n",
      "Epoch 20/100\n",
      "50000/50000 [==============================] - 18s 357us/step - loss: 0.3872 - accuracy: 0.8628 - val_loss: 2.1180 - val_accuracy: 0.5342\n",
      "Epoch 21/100\n",
      "50000/50000 [==============================] - 18s 356us/step - loss: 0.3608 - accuracy: 0.8730 - val_loss: 2.2471 - val_accuracy: 0.5331\n",
      "Epoch 22/100\n",
      "50000/50000 [==============================] - 18s 362us/step - loss: 0.3333 - accuracy: 0.8836 - val_loss: 2.4126 - val_accuracy: 0.5312\n",
      "Epoch 23/100\n",
      "50000/50000 [==============================] - 18s 369us/step - loss: 0.3106 - accuracy: 0.8905 - val_loss: 2.4702 - val_accuracy: 0.5263\n",
      "Epoch 24/100\n",
      "50000/50000 [==============================] - 18s 361us/step - loss: 0.3025 - accuracy: 0.8929 - val_loss: 2.4820 - val_accuracy: 0.5207\n",
      "Epoch 25/100\n",
      "50000/50000 [==============================] - 18s 362us/step - loss: 0.2763 - accuracy: 0.9039 - val_loss: 2.6295 - val_accuracy: 0.5238\n",
      "Epoch 26/100\n",
      "50000/50000 [==============================] - 19s 379us/step - loss: 0.2576 - accuracy: 0.9102 - val_loss: 2.6840 - val_accuracy: 0.5282\n",
      "Epoch 27/100\n",
      "50000/50000 [==============================] - 18s 366us/step - loss: 0.2400 - accuracy: 0.9168 - val_loss: 2.6900 - val_accuracy: 0.5254\n",
      "Epoch 28/100\n",
      "50000/50000 [==============================] - 19s 373us/step - loss: 0.2426 - accuracy: 0.9156 - val_loss: 2.7390 - val_accuracy: 0.5296\n",
      "Epoch 29/100\n",
      "50000/50000 [==============================] - 18s 366us/step - loss: 0.2164 - accuracy: 0.9245 - val_loss: 2.8460 - val_accuracy: 0.5251\n",
      "Epoch 30/100\n",
      "50000/50000 [==============================] - 19s 378us/step - loss: 0.2116 - accuracy: 0.9277 - val_loss: 2.9637 - val_accuracy: 0.5357\n",
      "Epoch 31/100\n",
      "50000/50000 [==============================] - 19s 378us/step - loss: 0.2119 - accuracy: 0.9265 - val_loss: 2.9572 - val_accuracy: 0.5284\n",
      "Epoch 32/100\n",
      "50000/50000 [==============================] - 19s 375us/step - loss: 0.1827 - accuracy: 0.9372 - val_loss: 3.1317 - val_accuracy: 0.5246\n",
      "Epoch 33/100\n",
      "50000/50000 [==============================] - 19s 387us/step - loss: 0.1870 - accuracy: 0.9370 - val_loss: 3.1179 - val_accuracy: 0.5206\n",
      "Epoch 34/100\n",
      "50000/50000 [==============================] - 18s 364us/step - loss: 0.1910 - accuracy: 0.9340 - val_loss: 3.1681 - val_accuracy: 0.5376\n",
      "Epoch 35/100\n",
      "50000/50000 [==============================] - 17s 344us/step - loss: 0.1707 - accuracy: 0.9416 - val_loss: 3.2900 - val_accuracy: 0.5291\n",
      "Epoch 36/100\n",
      "50000/50000 [==============================] - 17s 341us/step - loss: 0.1612 - accuracy: 0.9451 - val_loss: 3.4310 - val_accuracy: 0.5226\n",
      "Epoch 37/100\n",
      "50000/50000 [==============================] - 17s 344us/step - loss: 0.1569 - accuracy: 0.9452 - val_loss: 3.4379 - val_accuracy: 0.5269\n",
      "Epoch 38/100\n",
      "50000/50000 [==============================] - 17s 349us/step - loss: 0.1730 - accuracy: 0.9400 - val_loss: 3.3149 - val_accuracy: 0.5278\n",
      "Epoch 39/100\n",
      "50000/50000 [==============================] - 18s 362us/step - loss: 0.1457 - accuracy: 0.9496 - val_loss: 3.4843 - val_accuracy: 0.5343\n",
      "Epoch 40/100\n",
      "50000/50000 [==============================] - 18s 350us/step - loss: 0.1246 - accuracy: 0.9583 - val_loss: 3.5508 - val_accuracy: 0.5272\n",
      "Epoch 41/100\n",
      "50000/50000 [==============================] - 18s 359us/step - loss: 0.1510 - accuracy: 0.9498 - val_loss: 3.4641 - val_accuracy: 0.5248\n",
      "Epoch 42/100\n",
      "50000/50000 [==============================] - 18s 369us/step - loss: 0.1416 - accuracy: 0.9521 - val_loss: 3.6109 - val_accuracy: 0.5270\n",
      "Epoch 43/100\n",
      "50000/50000 [==============================] - 18s 353us/step - loss: 0.1369 - accuracy: 0.9538 - val_loss: 3.5999 - val_accuracy: 0.5216\n",
      "Epoch 44/100\n",
      "50000/50000 [==============================] - 19s 375us/step - loss: 0.1356 - accuracy: 0.9538 - val_loss: 3.5976 - val_accuracy: 0.5281\n",
      "Epoch 45/100\n",
      "50000/50000 [==============================] - 19s 370us/step - loss: 0.1302 - accuracy: 0.9556 - val_loss: 3.7090 - val_accuracy: 0.5276\n",
      "Epoch 46/100\n",
      "50000/50000 [==============================] - 18s 352us/step - loss: 0.1211 - accuracy: 0.9586 - val_loss: 3.6677 - val_accuracy: 0.5271\n",
      "Epoch 47/100\n",
      "50000/50000 [==============================] - 18s 364us/step - loss: 0.1242 - accuracy: 0.9580 - val_loss: 3.6940 - val_accuracy: 0.5237\n",
      "Epoch 48/100\n",
      "50000/50000 [==============================] - 18s 365us/step - loss: 0.1322 - accuracy: 0.9550 - val_loss: 3.7193 - val_accuracy: 0.5244\n",
      "Epoch 49/100\n",
      "50000/50000 [==============================] - 19s 377us/step - loss: 0.1336 - accuracy: 0.9552 - val_loss: 3.8053 - val_accuracy: 0.5241\n",
      "Epoch 50/100\n",
      "50000/50000 [==============================] - 19s 387us/step - loss: 0.1028 - accuracy: 0.9650 - val_loss: 3.8739 - val_accuracy: 0.5254\n",
      "Epoch 51/100\n",
      "50000/50000 [==============================] - 18s 367us/step - loss: 0.1234 - accuracy: 0.9582 - val_loss: 3.7841 - val_accuracy: 0.5352\n",
      "Epoch 52/100\n",
      "50000/50000 [==============================] - 19s 375us/step - loss: 0.1050 - accuracy: 0.9649 - val_loss: 3.8101 - val_accuracy: 0.5258\n",
      "Epoch 53/100\n",
      "50000/50000 [==============================] - 19s 380us/step - loss: 0.1035 - accuracy: 0.9657 - val_loss: 3.9166 - val_accuracy: 0.5306\n",
      "Epoch 54/100\n",
      "50000/50000 [==============================] - 19s 371us/step - loss: 0.1143 - accuracy: 0.9616 - val_loss: 3.9337 - val_accuracy: 0.5177\n"
     ]
    },
    {
     "name": "stdout",
     "output_type": "stream",
     "text": [
      "Epoch 55/100\n",
      "50000/50000 [==============================] - 18s 355us/step - loss: 0.1018 - accuracy: 0.9668 - val_loss: 3.9831 - val_accuracy: 0.5292\n",
      "Epoch 56/100\n",
      "50000/50000 [==============================] - 17s 341us/step - loss: 0.0921 - accuracy: 0.9696 - val_loss: 4.0645 - val_accuracy: 0.5316\n",
      "Epoch 57/100\n",
      "50000/50000 [==============================] - 17s 349us/step - loss: 0.0975 - accuracy: 0.9679 - val_loss: 3.9869 - val_accuracy: 0.5318: 0.0970 - accuracy: 0.\n",
      "Epoch 58/100\n",
      "50000/50000 [==============================] - 17s 347us/step - loss: 0.1276 - accuracy: 0.9577 - val_loss: 4.0859 - val_accuracy: 0.5318\n",
      "Epoch 59/100\n",
      "50000/50000 [==============================] - 18s 370us/step - loss: 0.1021 - accuracy: 0.9654 - val_loss: 3.8346 - val_accuracy: 0.5308\n",
      "Epoch 60/100\n",
      "50000/50000 [==============================] - 18s 356us/step - loss: 0.0847 - accuracy: 0.9714 - val_loss: 4.0557 - val_accuracy: 0.5312\n",
      "Epoch 61/100\n",
      "50000/50000 [==============================] - 18s 357us/step - loss: 0.0993 - accuracy: 0.9675 - val_loss: 4.0267 - val_accuracy: 0.5260\n",
      "Epoch 62/100\n",
      "50000/50000 [==============================] - 18s 362us/step - loss: 0.1054 - accuracy: 0.9649 - val_loss: 4.1307 - val_accuracy: 0.5286\n",
      "Epoch 63/100\n",
      "50000/50000 [==============================] - 18s 354us/step - loss: 0.0850 - accuracy: 0.9716 - val_loss: 4.2091 - val_accuracy: 0.5239\n",
      "Epoch 64/100\n",
      "50000/50000 [==============================] - 17s 349us/step - loss: 0.0955 - accuracy: 0.9684 - val_loss: 4.0044 - val_accuracy: 0.5313\n",
      "Epoch 65/100\n",
      "50000/50000 [==============================] - 17s 349us/step - loss: 0.0875 - accuracy: 0.9709 - val_loss: 4.2126 - val_accuracy: 0.5335\n",
      "Epoch 66/100\n",
      "50000/50000 [==============================] - 18s 361us/step - loss: 0.1062 - accuracy: 0.9654 - val_loss: 4.0100 - val_accuracy: 0.5233\n",
      "Epoch 67/100\n",
      "50000/50000 [==============================] - 18s 369us/step - loss: 0.0914 - accuracy: 0.9698 - val_loss: 4.1077 - val_accuracy: 0.5327\n",
      "Epoch 68/100\n",
      "50000/50000 [==============================] - 17s 347us/step - loss: 0.0709 - accuracy: 0.9766 - val_loss: 4.3742 - val_accuracy: 0.5256\n",
      "Epoch 69/100\n",
      "50000/50000 [==============================] - 18s 358us/step - loss: 0.0880 - accuracy: 0.9721 - val_loss: 4.3558 - val_accuracy: 0.5258\n",
      "Epoch 70/100\n",
      "50000/50000 [==============================] - 18s 352us/step - loss: 0.0946 - accuracy: 0.9685 - val_loss: 4.1569 - val_accuracy: 0.5261\n",
      "Epoch 71/100\n",
      "50000/50000 [==============================] - 17s 349us/step - loss: 0.0694 - accuracy: 0.9775 - val_loss: 4.3564 - val_accuracy: 0.5275\n",
      "Epoch 72/100\n",
      "50000/50000 [==============================] - 18s 365us/step - loss: 0.0750 - accuracy: 0.9749 - val_loss: 4.2344 - val_accuracy: 0.5304\n",
      "Epoch 73/100\n",
      "50000/50000 [==============================] - 17s 348us/step - loss: 0.0707 - accuracy: 0.9770 - val_loss: 4.2491 - val_accuracy: 0.5363\n",
      "Epoch 74/100\n",
      "50000/50000 [==============================] - 18s 352us/step - loss: 0.0940 - accuracy: 0.9697 - val_loss: 4.1836 - val_accuracy: 0.5213\n",
      "Epoch 75/100\n",
      "50000/50000 [==============================] - 19s 372us/step - loss: 0.1006 - accuracy: 0.9680 - val_loss: 4.1490 - val_accuracy: 0.5311\n",
      "Epoch 76/100\n",
      "50000/50000 [==============================] - 19s 378us/step - loss: 0.0580 - accuracy: 0.9806 - val_loss: 4.3097 - val_accuracy: 0.5321\n",
      "Epoch 77/100\n",
      "50000/50000 [==============================] - 18s 354us/step - loss: 0.0744 - accuracy: 0.9757 - val_loss: 4.2385 - val_accuracy: 0.5270\n",
      "Epoch 78/100\n",
      "50000/50000 [==============================] - 17s 347us/step - loss: 0.0814 - accuracy: 0.9738 - val_loss: 4.3819 - val_accuracy: 0.5347\n",
      "Epoch 79/100\n",
      "50000/50000 [==============================] - 17s 349us/step - loss: 0.0951 - accuracy: 0.9700 - val_loss: 4.0710 - val_accuracy: 0.5293\n",
      "Epoch 80/100\n",
      "50000/50000 [==============================] - 18s 362us/step - loss: 0.0743 - accuracy: 0.9763 - val_loss: 4.3836 - val_accuracy: 0.5328\n",
      "Epoch 81/100\n",
      "50000/50000 [==============================] - 19s 376us/step - loss: 0.0840 - accuracy: 0.9733 - val_loss: 4.2174 - val_accuracy: 0.5324\n",
      "Epoch 82/100\n",
      "50000/50000 [==============================] - 18s 358us/step - loss: 0.0755 - accuracy: 0.9756 - val_loss: 4.3828 - val_accuracy: 0.5322\n",
      "Epoch 83/100\n",
      "50000/50000 [==============================] - 17s 344us/step - loss: 0.0619 - accuracy: 0.9799 - val_loss: 4.3881 - val_accuracy: 0.5305\n",
      "Epoch 84/100\n",
      "50000/50000 [==============================] - 18s 366us/step - loss: 0.0704 - accuracy: 0.9773 - val_loss: 4.3884 - val_accuracy: 0.5292\n",
      "Epoch 85/100\n",
      "50000/50000 [==============================] - 18s 368us/step - loss: 0.0943 - accuracy: 0.9699 - val_loss: 4.3268 - val_accuracy: 0.5324\n",
      "Epoch 86/100\n",
      "50000/50000 [==============================] - 18s 361us/step - loss: 0.0651 - accuracy: 0.9797 - val_loss: 4.3243 - val_accuracy: 0.5300\n",
      "Epoch 87/100\n",
      "50000/50000 [==============================] - 18s 370us/step - loss: 0.0716 - accuracy: 0.9773 - val_loss: 4.5808 - val_accuracy: 0.5282\n",
      "Epoch 88/100\n",
      "50000/50000 [==============================] - 17s 348us/step - loss: 0.0652 - accuracy: 0.9781 - val_loss: 4.5459 - val_accuracy: 0.5337\n",
      "Epoch 89/100\n",
      "50000/50000 [==============================] - 18s 355us/step - loss: 0.0725 - accuracy: 0.9767 - val_loss: 4.4482 - val_accuracy: 0.5355\n",
      "Epoch 90/100\n",
      "50000/50000 [==============================] - 18s 350us/step - loss: 0.0625 - accuracy: 0.9794 - val_loss: 4.4297 - val_accuracy: 0.5346\n",
      "Epoch 91/100\n",
      "50000/50000 [==============================] - 18s 366us/step - loss: 0.0548 - accuracy: 0.9824 - val_loss: 4.4535 - val_accuracy: 0.5331\n",
      "Epoch 92/100\n",
      "50000/50000 [==============================] - 18s 350us/step - loss: 0.0865 - accuracy: 0.9726 - val_loss: 4.2666 - val_accuracy: 0.5217\n",
      "Epoch 93/100\n",
      "50000/50000 [==============================] - 18s 356us/step - loss: 0.0790 - accuracy: 0.9740 - val_loss: 4.3738 - val_accuracy: 0.5294\n",
      "Epoch 94/100\n",
      "50000/50000 [==============================] - 17s 347us/step - loss: 0.0530 - accuracy: 0.9832 - val_loss: 4.5510 - val_accuracy: 0.5308\n",
      "Epoch 95/100\n",
      "50000/50000 [==============================] - 18s 351us/step - loss: 0.0495 - accuracy: 0.9836 - val_loss: 4.6742 - val_accuracy: 0.5310\n",
      "Epoch 96/100\n",
      "50000/50000 [==============================] - 18s 363us/step - loss: 0.0682 - accuracy: 0.9778 - val_loss: 4.4520 - val_accuracy: 0.5335\n",
      "Epoch 97/100\n",
      "50000/50000 [==============================] - 18s 360us/step - loss: 0.0710 - accuracy: 0.9770 - val_loss: 4.4446 - val_accuracy: 0.5309\n",
      "Epoch 98/100\n",
      "50000/50000 [==============================] - 17s 345us/step - loss: 0.0766 - accuracy: 0.9760 - val_loss: 4.2802 - val_accuracy: 0.5356\n",
      "Epoch 99/100\n",
      "50000/50000 [==============================] - 17s 349us/step - loss: 0.0535 - accuracy: 0.9826 - val_loss: 4.4566 - val_accuracy: 0.5346\n",
      "Epoch 100/100\n",
      "50000/50000 [==============================] - 18s 353us/step - loss: 0.0582 - accuracy: 0.9815 - val_loss: 4.5267 - val_accuracy: 0.5349\n"
     ]
    },
    {
     "data": {
      "text/plain": [
       "<keras.callbacks.callbacks.History at 0x2475e1c80b8>"
      ]
     },
     "execution_count": 12,
     "metadata": {},
     "output_type": "execute_result"
    }
   ],
   "source": [
    "model.fit(x_train, y_train, \n",
    "          epochs=EPOCHS, \n",
    "          batch_size=BATCH_SIZE, \n",
    "          validation_data=(x_test, y_test), \n",
    "          shuffle=True)"
   ]
  },
  {
   "cell_type": "code",
   "execution_count": 16,
   "metadata": {},
   "outputs": [
    {
     "data": {
      "image/png": "[encoded data removed]",
      "text/plain": [
       "<Figure size 432x288 with 1 Axes>"
      ]
     },
     "metadata": {
      "needs_background": "light"
     },
     "output_type": "display_data"
    },
    {
     "data": {
      "image/png": "[encoded data removed]",
      "text/plain": [
       "<Figure size 432x288 with 1 Axes>"
      ]
     },
     "metadata": {
      "needs_background": "light"
     },
     "output_type": "display_data"
    }
   ],
   "source": [
    "import matplotlib.pyplot as plt\n",
    "%matplotlib inline\n",
    "\n",
    "train_loss = model.history.history[\"loss\"]\n",
    "valid_loss = model.history.history[\"val_loss\"]\n",
    "\n",
    "train_acc = model.history.history[\"accuracy\"]\n",
    "valid_acc = model.history.history[\"val_accuracy\"]\n",
    "\n",
    "plt.plot(range(len(train_loss)), train_loss, label=\"train loss\")\n",
    "plt.plot(range(len(valid_loss)), valid_loss, label=\"valid loss\")\n",
    "plt.legend()\n",
    "plt.title(\"Loss\")\n",
    "plt.show()\n",
    "\n",
    "plt.plot(range(len(train_acc)), train_acc, label=\"train accuracy\")\n",
    "plt.plot(range(len(valid_acc)), valid_acc, label=\"valid accuracy\")\n",
    "plt.legend()\n",
    "plt.title(\"Accuracy\")\n",
    "plt.show()"
   ]
  },
  {
   "cell_type": "code",
   "execution_count": null,
   "metadata": {},
   "outputs": [],
   "source": []
  }
 ],
 "metadata": {
  "kernelspec": {
   "display_name": "Python 3",
   "language": "python",
   "name": "python3"
  },
  "language_info": {
   "codemirror_mode": {
    "name": "ipython",
    "version": 3
   },
   "file_extension": ".py",
   "mimetype": "text/x-python",
   "name": "python",
   "nbconvert_exporter": "python",
   "pygments_lexer": "ipython3",
   "version": "3.7.3"
  }
 },
 "nbformat": 4,
 "nbformat_minor": 2
}

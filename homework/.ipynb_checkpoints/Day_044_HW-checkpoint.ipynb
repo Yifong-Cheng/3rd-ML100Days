{
 "cells": [
  {
   "cell_type": "markdown",
   "metadata": {},
   "source": [
    "## [作業重點]\n",
    "確保你了解隨機森林模型中每個超參數的意義，並觀察調整超參數對結果的影響"
   ]
  },
  {
   "cell_type": "markdown",
   "metadata": {},
   "source": [
    "## 作業\n",
    "\n",
    "1. 試著調整 RandomForestClassifier(...) 中的參數，並觀察是否會改變結果？\n",
    "2. 改用其他資料集 (boston, wine)，並與回歸模型與決策樹的結果進行比較"
   ]
  },
  {
   "cell_type": "code",
   "execution_count": 3,
   "metadata": {},
   "outputs": [],
   "source": [
    "from sklearn import datasets,metrics\n",
    "from sklearn.ensemble import RandomForestClassifier\n",
    "from sklearn.model_selection import train_test_split\n"
   ]
  },
  {
   "cell_type": "code",
   "execution_count": 5,
   "metadata": {},
   "outputs": [],
   "source": [
    "iris = datasets.load_iris()\n",
    "\n",
    "x_train,x_test,y_train,y_test = train_test_split(iris.data,iris.target,test_size=0.25,random_state=4)\n",
    "\n",
    "clf=RandomForestClassifier(n_estimators=20,max_depth=4)\n",
    "\n",
    "clf.fit(x_train,y_train)\n",
    "\n",
    "y_pred = clf.predict(x_test)"
   ]
  },
  {
   "cell_type": "code",
   "execution_count": 6,
   "metadata": {},
   "outputs": [
    {
     "name": "stdout",
     "output_type": "stream",
     "text": [
      "Accuracy =  0.9736842105263158\n"
     ]
    }
   ],
   "source": [
    "acc=metrics.accuracy_score(y_test,y_pred)\n",
    "print(\"Accuracy = \",acc)"
   ]
  },
  {
   "cell_type": "code",
   "execution_count": 9,
   "metadata": {},
   "outputs": [
    {
     "name": "stdout",
     "output_type": "stream",
     "text": [
      "Features :  ['sepal length (cm)', 'sepal width (cm)', 'petal length (cm)', 'petal width (cm)']\n"
     ]
    }
   ],
   "source": [
    "print(\"Features : \" ,iris.feature_names)"
   ]
  },
  {
   "cell_type": "code",
   "execution_count": 10,
   "metadata": {},
   "outputs": [
    {
     "name": "stdout",
     "output_type": "stream",
     "text": [
      "Feature importances :  [0.04323587 0.03630193 0.44775949 0.47270272]\n"
     ]
    }
   ],
   "source": [
    "print(\"Feature importances : \",clf.feature_importances_)"
   ]
  },
  {
   "cell_type": "code",
   "execution_count": 17,
   "metadata": {},
   "outputs": [
    {
     "name": "stdout",
     "output_type": "stream",
     "text": [
      "Accuracy_1 :  0.9473684210526315\n"
     ]
    }
   ],
   "source": [
    "clf1=RandomForestClassifier(n_estimators=30,criterion='gini',max_features='auto',max_depth=8,min_samples_split=2,min_samples_leaf=1)\n",
    "clf1.fit(x_train,y_train)\n",
    "y_pred1=clf1.predict(x_test)\n",
    "\n",
    "acc1=metrics.accuracy_score(y_test,y_pred1)\n",
    "print(\"Accuracy_1 : \" ,acc1)"
   ]
  },
  {
   "cell_type": "code",
   "execution_count": 19,
   "metadata": {},
   "outputs": [
    {
     "name": "stdout",
     "output_type": "stream",
     "text": [
      "Feature importances :  [0.16522507 0.04183947 0.42660484 0.36633062]\n"
     ]
    }
   ],
   "source": [
    "print(\"Feature importances : \",clf1.feature_importances_)"
   ]
  },
  {
   "cell_type": "markdown",
   "metadata": {},
   "source": [
    "## 問題1結論:\n",
    "是的，根據隨機森林的深度跟樣本數會影響最終準確度及特徵對預測值的影響值"
   ]
  },
  {
   "cell_type": "code",
   "execution_count": 22,
   "metadata": {},
   "outputs": [
    {
     "name": "stdout",
     "output_type": "stream",
     "text": [
      "Accuracy =  0.9555555555555556\n",
      "Accuracy1 =  1.0\n"
     ]
    }
   ],
   "source": [
    "wine = datasets.load_wine()\n",
    "\n",
    "x_train,x_test,y_train,y_test = train_test_split(wine.data,wine.target,test_size=0.25,random_state=4)\n",
    "\n",
    "clf=RandomForestClassifier(n_estimators=20,max_depth=4)\n",
    "clf.fit(x_train,y_train)\n",
    "clf1=RandomForestClassifier(n_estimators=30,max_depth=4)\n",
    "clf1.fit(x_train,y_train)\n",
    "\n",
    "y_pred=clf.predict(x_test)\n",
    "acc=metrics.accuracy_score(y_test,y_pred)\n",
    "\n",
    "y_pred1=clf1.predict(x_test)\n",
    "acc1=metrics.accuracy_score(y_test,y_pred1)\n",
    "\n",
    "print(\"Accuracy = \",acc)\n",
    "print(\"Accuracy1 = \",acc1)"
   ]
  },
  {
   "cell_type": "code",
   "execution_count": 23,
   "metadata": {},
   "outputs": [
    {
     "name": "stdout",
     "output_type": "stream",
     "text": [
      "Features :  ['alcohol', 'malic_acid', 'ash', 'alcalinity_of_ash', 'magnesium', 'total_phenols', 'flavanoids', 'nonflavanoid_phenols', 'proanthocyanins', 'color_intensity', 'hue', 'od280/od315_of_diluted_wines', 'proline']\n",
      "Feature importances :  [0.06952592 0.02697157 0.0064694  0.05092313 0.04320277 0.01553625\n",
      " 0.13999128 0.01500727 0.02354419 0.17322865 0.14963763 0.12138596\n",
      " 0.16457599]\n",
      "Feature importances _1 :  [0.12790259 0.03437776 0.00774573 0.03862281 0.02613635 0.06246183\n",
      " 0.13535105 0.00509893 0.01164289 0.16563204 0.14345719 0.08135505\n",
      " 0.16021577]\n"
     ]
    }
   ],
   "source": [
    "print(\"Features : \" ,wine.feature_names)\n",
    "print(\"Feature importances : \",clf.feature_importances_)\n",
    "print(\"Feature importances _1 : \",clf1.feature_importances_)"
   ]
  },
  {
   "cell_type": "code",
   "execution_count": null,
   "metadata": {},
   "outputs": [],
   "source": []
  }
 ],
 "metadata": {
  "kernelspec": {
   "display_name": "Python 3",
   "language": "python",
   "name": "python3"
  },
  "language_info": {
   "codemirror_mode": {
    "name": "ipython",
    "version": 3
   },
   "file_extension": ".py",
   "mimetype": "text/x-python",
   "name": "python",
   "nbconvert_exporter": "python",
   "pygments_lexer": "ipython3",
   "version": "3.7.3"
  }
 },
 "nbformat": 4,
 "nbformat_minor": 2
}

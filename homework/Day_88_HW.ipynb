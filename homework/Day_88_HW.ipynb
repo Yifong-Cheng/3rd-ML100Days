{
 "cells": [
  {
   "cell_type": "markdown",
   "metadata": {},
   "source": [
    "## Work\n",
    "1. 請嘗試寫一個 callback 用來記錄各類別在訓練過程中，對驗證集的 True Positive 與 True Negative"
   ]
  },
  {
   "cell_type": "code",
   "execution_count": 1,
   "metadata": {},
   "outputs": [
    {
     "name": "stderr",
     "output_type": "stream",
     "text": [
      "Using TensorFlow backend.\n"
     ]
    }
   ],
   "source": [
    "import os\n",
    "import keras\n",
    "\n",
    "# Disable GPU\n",
    "os.environ[\"CUDA_VISIBLE_DEVICES\"] = \"\""
   ]
  },
  {
   "cell_type": "code",
   "execution_count": 2,
   "metadata": {},
   "outputs": [],
   "source": [
    "train, test = keras.datasets.cifar10.load_data()"
   ]
  },
  {
   "cell_type": "code",
   "execution_count": 3,
   "metadata": {},
   "outputs": [],
   "source": [
    "## 資料前處理\n",
    "def preproc_x(x, flatten=True):\n",
    "    x = x / 255.\n",
    "    if flatten:\n",
    "        x = x.reshape((len(x), -1))\n",
    "    return x\n",
    "\n",
    "def preproc_y(y, num_classes=10):\n",
    "    if y.shape[-1] == 1:\n",
    "        y = keras.utils.to_categorical(y, num_classes)\n",
    "    return y    "
   ]
  },
  {
   "cell_type": "code",
   "execution_count": 4,
   "metadata": {},
   "outputs": [],
   "source": [
    "x_train, y_train = train\n",
    "x_test, y_test = test\n",
    "\n",
    "# Preproc the inputs\n",
    "x_train = preproc_x(x_train)\n",
    "x_test = preproc_x(x_test)\n",
    "\n",
    "# Preprc the outputs\n",
    "y_train = preproc_y(y_train)\n",
    "y_test = preproc_y(y_test)"
   ]
  },
  {
   "cell_type": "code",
   "execution_count": 5,
   "metadata": {},
   "outputs": [],
   "source": [
    "from keras.layers import BatchNormalization\n",
    "\n",
    "def build_mlp(input_shape, output_units=10, num_neurons=[256, 256, 256]):\n",
    "    \"\"\"Code Here\n",
    "    建立你的神經網路\n",
    "    \"\"\"\n",
    "    input_layer = keras.layers.Input(input_shape)\n",
    "    for i,n_units in enumerate(num_neurons):\n",
    "        if i==0:\n",
    "            x = keras.layers.Dense(units=n_units,activation=\"relu\",name=\"hidden_layer\"+str(i+1))(input_layer)\n",
    "            x = BatchNormalization()(x)\n",
    "        else:\n",
    "            x = keras.layers.Dense(units=n_units,activation=\"relu\",name=\"hidden_layer\"+str(i+1))(x)\n",
    "            x = BatchNormalization()(x)\n",
    "            \n",
    "    out=keras.layers.Dense(units=output_units,activation=\"softmax\",name=\"output\")(x)\n",
    "    model=keras.models.Model(inputs=[input_layer],outputs=[out])\n",
    "        \n",
    "    return model"
   ]
  },
  {
   "cell_type": "code",
   "execution_count": 6,
   "metadata": {},
   "outputs": [],
   "source": [
    "## 超參數設定\n",
    "LEARNING_RATE = 1e-3\n",
    "EPOCHS = 25\n",
    "BATCH_SIZE = 1024\n",
    "MOMENTUM = 0.95"
   ]
  },
  {
   "cell_type": "code",
   "execution_count": 7,
   "metadata": {},
   "outputs": [],
   "source": [
    "from keras.callbacks import ReduceLROnPlateau"
   ]
  },
  {
   "cell_type": "code",
   "execution_count": 10,
   "metadata": {},
   "outputs": [],
   "source": [
    "# 載入 Callbacks\n",
    "from keras.callbacks import Callback\n",
    "from sklearn.metrics import f1_score\n",
    "\n",
    "\n",
    "# Record_fp_tp\n",
    "class Record_tp_tn(Callback):\n",
    "    \"\"\"Code Here\n",
    "    撰寫一個紀錄 ture positive 與 true negative 數量的 callbacks    \n",
    "    \"\"\"\n",
    "    def on_train_begin(self, epoch, logs = {}):\n",
    "        logs = logs or {}\n",
    "        record_items = [\"val_auc\", \"val_f1sc\", \"val_fp\", \"val_fn\", \"val_tp\", \"val_tn\"]\n",
    "        for i in record_items:\n",
    "            if i not in self.params['metrics']:\n",
    "                self.params['metrics'].append(i)\n",
    "    \n",
    "    def on_epoch_end(self, epoch, logs = {}, thres=0.5):\n",
    "        logs = logs or {}\n",
    "        y_true = self.validation_data[1].argmax(axis = 1)\n",
    "        y_false = self.validation_data[1].argmin(axis = 1)\n",
    "        y_pred = self.model.predict(self.validation_data[0])\n",
    "        y_pred = (y_pred[:, 1] >= thres) * 1\n",
    "        \n",
    "        logs[\"val_tp\"] = f1_score(y_true = y_true, y_pred = y_pred, average=\"weighted\")\n",
    "        logs[\"val_tn\"] = f1_score(y_true = y_false, y_pred = y_pred, average=\"weighted\")\n",
    "        \n",
    "rec_tptn = Record_tp_tn()"
   ]
  },
  {
   "cell_type": "code",
   "execution_count": 11,
   "metadata": {
    "scrolled": true
   },
   "outputs": [
    {
     "name": "stdout",
     "output_type": "stream",
     "text": [
      "Model: \"model_2\"\n",
      "_________________________________________________________________\n",
      "Layer (type)                 Output Shape              Param #   \n",
      "=================================================================\n",
      "input_2 (InputLayer)         (None, 3072)              0         \n",
      "_________________________________________________________________\n",
      "hidden_layer1 (Dense)        (None, 256)               786688    \n",
      "_________________________________________________________________\n",
      "batch_normalization_4 (Batch (None, 256)               1024      \n",
      "_________________________________________________________________\n",
      "hidden_layer2 (Dense)        (None, 256)               65792     \n",
      "_________________________________________________________________\n",
      "batch_normalization_5 (Batch (None, 256)               1024      \n",
      "_________________________________________________________________\n",
      "hidden_layer3 (Dense)        (None, 256)               65792     \n",
      "_________________________________________________________________\n",
      "batch_normalization_6 (Batch (None, 256)               1024      \n",
      "_________________________________________________________________\n",
      "output (Dense)               (None, 10)                2570      \n",
      "=================================================================\n",
      "Total params: 923,914\n",
      "Trainable params: 922,378\n",
      "Non-trainable params: 1,536\n",
      "_________________________________________________________________\n",
      "Train on 50000 samples, validate on 10000 samples\n",
      "Epoch 1/25\n",
      "50000/50000 [==============================] - 27s 530us/step - loss: 2.2639 - accuracy: 0.2583 - val_loss: 2.2021 - val_accuracy: 0.1439\n"
     ]
    },
    {
     "name": "stderr",
     "output_type": "stream",
     "text": [
      "C:\\Users\\cheng\\Anaconda3\\lib\\site-packages\\sklearn\\metrics\\classification.py:1143: UndefinedMetricWarning: F-score is ill-defined and being set to 0.0 in labels with no predicted samples.\n",
      "  'precision', 'predicted', average, warn_for)\n"
     ]
    },
    {
     "name": "stdout",
     "output_type": "stream",
     "text": [
      "Epoch 2/25\n",
      "50000/50000 [==============================] - 10s 198us/step - loss: 1.7629 - accuracy: 0.3824 - val_loss: 2.0077 - val_accuracy: 0.2670\n",
      "Epoch 3/25\n",
      "50000/50000 [==============================] - 8s 162us/step - loss: 1.6394 - accuracy: 0.4245 - val_loss: 1.8532 - val_accuracy: 0.3569\n",
      "Epoch 4/25\n",
      "50000/50000 [==============================] - 8s 154us/step - loss: 1.5652 - accuracy: 0.4520 - val_loss: 1.7272 - val_accuracy: 0.4009\n",
      "Epoch 5/25\n",
      "50000/50000 [==============================] - 8s 152us/step - loss: 1.5138 - accuracy: 0.4686 - val_loss: 1.6398 - val_accuracy: 0.4288\n",
      "Epoch 6/25\n",
      "50000/50000 [==============================] - 8s 154us/step - loss: 1.4691 - accuracy: 0.4851 - val_loss: 1.5924 - val_accuracy: 0.4423\n",
      "Epoch 7/25\n",
      "50000/50000 [==============================] - 8s 165us/step - loss: 1.4325 - accuracy: 0.4992 - val_loss: 1.5511 - val_accuracy: 0.4548\n",
      "Epoch 8/25\n",
      "50000/50000 [==============================] - 8s 153us/step - loss: 1.3994 - accuracy: 0.5108 - val_loss: 1.5336 - val_accuracy: 0.4576\n",
      "Epoch 9/25\n",
      "50000/50000 [==============================] - 8s 152us/step - loss: 1.3691 - accuracy: 0.5223 - val_loss: 1.5117 - val_accuracy: 0.4671\n",
      "Epoch 10/25\n",
      "50000/50000 [==============================] - 8s 161us/step - loss: 1.3425 - accuracy: 0.5318 - val_loss: 1.5080 - val_accuracy: 0.4756\n",
      "Epoch 11/25\n",
      "50000/50000 [==============================] - 8s 153us/step - loss: 1.3170 - accuracy: 0.5408 - val_loss: 1.4933 - val_accuracy: 0.4762\n",
      "Epoch 12/25\n",
      "50000/50000 [==============================] - 9s 176us/step - loss: 1.2930 - accuracy: 0.5497 - val_loss: 1.4879 - val_accuracy: 0.4769\n",
      "Epoch 13/25\n",
      "50000/50000 [==============================] - 8s 161us/step - loss: 1.2690 - accuracy: 0.5591 - val_loss: 1.4820 - val_accuracy: 0.4756\n",
      "Epoch 14/25\n",
      "50000/50000 [==============================] - 8s 159us/step - loss: 1.2478 - accuracy: 0.5677 - val_loss: 1.4798 - val_accuracy: 0.4773\n",
      "Epoch 15/25\n",
      "50000/50000 [==============================] - 8s 151us/step - loss: 1.2277 - accuracy: 0.5741 - val_loss: 1.4662 - val_accuracy: 0.4804\n",
      "Epoch 16/25\n",
      "50000/50000 [==============================] - 8s 152us/step - loss: 1.2082 - accuracy: 0.5826 - val_loss: 1.4621 - val_accuracy: 0.4885\n",
      "Epoch 17/25\n",
      "50000/50000 [==============================] - 8s 157us/step - loss: 1.1883 - accuracy: 0.5904 - val_loss: 1.4595 - val_accuracy: 0.4872\n",
      "Epoch 18/25\n",
      "50000/50000 [==============================] - 8s 158us/step - loss: 1.1689 - accuracy: 0.5978 - val_loss: 1.4498 - val_accuracy: 0.4896\n",
      "Epoch 19/25\n",
      "50000/50000 [==============================] - 8s 162us/step - loss: 1.1528 - accuracy: 0.6053 - val_loss: 1.4603 - val_accuracy: 0.4889\n",
      "Epoch 20/25\n",
      "50000/50000 [==============================] - 8s 157us/step - loss: 1.1341 - accuracy: 0.6095 - val_loss: 1.4523 - val_accuracy: 0.4901\n",
      "Epoch 21/25\n",
      "50000/50000 [==============================] - 8s 160us/step - loss: 1.1167 - accuracy: 0.6163 - val_loss: 1.4469 - val_accuracy: 0.4918\n",
      "Epoch 22/25\n",
      "50000/50000 [==============================] - 8s 152us/step - loss: 1.0999 - accuracy: 0.6234 - val_loss: 1.4456 - val_accuracy: 0.4916\n",
      "Epoch 23/25\n",
      "50000/50000 [==============================] - 8s 157us/step - loss: 1.0835 - accuracy: 0.6293 - val_loss: 1.4380 - val_accuracy: 0.4985\n",
      "Epoch 24/25\n",
      "50000/50000 [==============================] - 8s 169us/step - loss: 1.0654 - accuracy: 0.6356 - val_loss: 1.4556 - val_accuracy: 0.4953\n",
      "Epoch 25/25\n",
      "50000/50000 [==============================] - 8s 151us/step - loss: 1.0501 - accuracy: 0.6413 - val_loss: 1.4600 - val_accuracy: 0.4876\n"
     ]
    }
   ],
   "source": [
    "model = build_mlp(input_shape=x_train.shape[1:])\n",
    "model.summary()\n",
    "optimizer = keras.optimizers.SGD(lr=LEARNING_RATE, nesterov=True, momentum=MOMENTUM)\n",
    "model.compile(loss=\"categorical_crossentropy\", metrics=[\"accuracy\"], optimizer=optimizer)\n",
    "\n",
    "\"\"\"Code Here\n",
    "將 callbacks 放入模型訓練流程中\n",
    "\"\"\"\n",
    "model.fit(x_train, y_train, \n",
    "          epochs=EPOCHS, \n",
    "          batch_size=BATCH_SIZE, \n",
    "          validation_data=(x_test, y_test), \n",
    "          shuffle=True,\n",
    "          callbacks=[rec_tptn]\n",
    "         )\n",
    "\n",
    "# Collect results\n",
    "train_loss = model.history.history[\"loss\"]\n",
    "valid_loss = model.history.history[\"val_loss\"]\n",
    "train_acc = model.history.history[\"accuracy\"]\n",
    "valid_acc = model.history.history[\"val_accuracy\"]\n",
    "\n",
    "\"\"\"Code Here\n",
    "將 tp/tn 從訓練完的模型中取出\n",
    "\"\"\"\n",
    "valid_tp = model.history.history['val_tp']\n",
    "valid_tn = model.history.history['val_tn']"
   ]
  },
  {
   "cell_type": "code",
   "execution_count": 12,
   "metadata": {},
   "outputs": [
    {
     "data": {
      "image/png": "[encoded data removed]",
      "text/plain": [
       "<Figure size 432x288 with 1 Axes>"
      ]
     },
     "metadata": {
      "needs_background": "light"
     },
     "output_type": "display_data"
    },
    {
     "data": {
      "image/png": "[encoded data removed]",
      "text/plain": [
       "<Figure size 432x288 with 1 Axes>"
      ]
     },
     "metadata": {
      "needs_background": "light"
     },
     "output_type": "display_data"
    },
    {
     "data": {
      "image/png": "[encoded data removed]",
      "text/plain": [
       "<Figure size 432x288 with 1 Axes>"
      ]
     },
     "metadata": {
      "needs_background": "light"
     },
     "output_type": "display_data"
    }
   ],
   "source": [
    "import matplotlib.pyplot as plt\n",
    "%matplotlib inline\n",
    "\n",
    "plt.plot(range(len(train_loss)), train_loss, label=\"train loss\")\n",
    "plt.plot(range(len(valid_loss)), valid_loss, label=\"valid loss\")\n",
    "plt.legend()\n",
    "plt.title(\"Loss\")\n",
    "plt.show()\n",
    "\n",
    "plt.plot(range(len(train_acc)), train_acc, label=\"train accuracy\")\n",
    "plt.plot(range(len(valid_acc)), valid_acc, label=\"valid accuracy\")\n",
    "plt.legend()\n",
    "plt.title(\"Accuracy\")\n",
    "plt.show()\n",
    "\n",
    "plt.plot(range(len(valid_tp)), valid_tp, label=\"valid tp\", color=\"navy\")\n",
    "plt.plot(range(len(valid_tn)), valid_tn, label=\"valid tn\", color=\"red\")\n",
    "plt.legend()\n",
    "plt.title(\"True positives and True Negatives\")\n",
    "plt.show()\n"
   ]
  },
  {
   "cell_type": "code",
   "execution_count": null,
   "metadata": {},
   "outputs": [],
   "source": []
  }
 ],
 "metadata": {
  "kernelspec": {
   "display_name": "Python 3",
   "language": "python",
   "name": "python3"
  },
  "language_info": {
   "codemirror_mode": {
    "name": "ipython",
    "version": 3
   },
   "file_extension": ".py",
   "mimetype": "text/x-python",
   "name": "python",
   "nbconvert_exporter": "python",
   "pygments_lexer": "ipython3",
   "version": "3.7.3"
  }
 },
 "nbformat": 4,
 "nbformat_minor": 2
}
